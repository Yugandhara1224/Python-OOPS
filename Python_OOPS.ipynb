{
  "nbformat": 4,
  "nbformat_minor": 0,
  "metadata": {
    "colab": {
      "provenance": []
    },
    "kernelspec": {
      "name": "python3",
      "display_name": "Python 3"
    },
    "language_info": {
      "name": "python"
    }
  },
  "cells": [
    {
      "cell_type": "markdown",
      "source": [
        "**Python OOPS**"
      ],
      "metadata": {
        "id": "GzAE1EJztuA-"
      }
    },
    {
      "cell_type": "markdown",
      "source": [
        "1. What is Object-Oriented Programming (OOP)?\n",
        "-> Object-Oriented Programming (OOP) is a programming paradigm that uses \"objects\" to represent data and methods to manipulate that data. OOP is based on several key principles, including encapsulation, inheritance, polymorphism, and abstraction. It allows for more modular, reusable, and organized code.\n"
      ],
      "metadata": {
        "id": "AI_t82o7tySQ"
      }
    },
    {
      "cell_type": "markdown",
      "source": [
        "2. What is a class in OOP?\n",
        "-> A class is a blueprint for creating objects. It defines a set of attributes (data) and methods (functions) that the created objects (instances) will have. Classes encapsulate data for the object and provide methods to manipulate that data."
      ],
      "metadata": {
        "id": "06qOoZrouBxU"
      }
    },
    {
      "cell_type": "markdown",
      "source": [
        "3. What is an object in OOP?\n",
        "-> An object is an instance of a class. It is created based on the class blueprint and contains its own state (attributes) and behavior (methods). Each object can have different values for its attributes, even if they are of the same class."
      ],
      "metadata": {
        "id": "2OmVB7gxuPNA"
      }
    },
    {
      "cell_type": "markdown",
      "source": [
        "4. What is the difference between abstraction and encapsulation?\n",
        "-> - Abstraction is the concept of hiding the complex reality while exposing only the necessary parts. It allows focusing on what an object does instead of how it does it.\n",
        "\n",
        "-Encapsulation is the bundling of data (attributes) and methods (functions) that operate on the data into a single unit (class). It restricts direct access to some of the object's components, which is a means of preventing unintended interference and misuse.\n"
      ],
      "metadata": {
        "id": "PwiTT5h3uU4x"
      }
    },
    {
      "cell_type": "markdown",
      "source": [
        "5. What are dunder methods in Python?\n",
        "-> Dunder methods, or \"double underscore\" methods, are special methods in Python that start and end with double underscores (e.g., `__init__`, `__str__`, `__repr__`). They allow you to define the behavior of objects for built-in operations, such as initialization, string representation, and arithmetic operations."
      ],
      "metadata": {
        "id": "6IpspwtFuoMF"
      }
    },
    {
      "cell_type": "markdown",
      "source": [
        "6. Explain the concept of inheritance in OOP.\n",
        "-> Inheritance is a mechanism in OOP that allows a new class (child or subclass) to inherit attributes and methods from an existing class (parent or superclass). This promotes code reusability and establishes a hierarchical relationship between classes."
      ],
      "metadata": {
        "id": "Gnctktp2utvi"
      }
    },
    {
      "cell_type": "markdown",
      "source": [
        "7. What is polymorphism in OOP?\n",
        "-> Polymorphism is the ability of different classes to be treated as instances of the same class through a common interface. It allows methods to do different things based on the object it is acting upon, enabling flexibility and the ability to use a unified interface."
      ],
      "metadata": {
        "id": "3fpxzg0lu0CL"
      }
    },
    {
      "cell_type": "markdown",
      "source": [
        "8. How is encapsulation achieved in Python?\n",
        "-> Encapsulation in Python is achieved by using access modifiers. Attributes can be made private by prefixing them with an underscore (e.g., `_attribute`) or double underscore (e.g., `__attribute`). This restricts access to the attributes from outside the class, promoting data hiding."
      ],
      "metadata": {
        "id": "j5f1BS9Ru7fa"
      }
    },
    {
      "cell_type": "markdown",
      "source": [
        "9. What is a constructor in Python?\n",
        "-> A constructor in Python is a special method called `__init__` that is automatically invoked when an object is created. It initializes the object's attributes and sets up any necessary state."
      ],
      "metadata": {
        "id": "AayVPvjdvBf9"
      }
    },
    {
      "cell_type": "markdown",
      "source": [
        "10. What are class and static methods in Python?\n",
        "-> - Class methods are methods that are bound to the class and not the instance of the class. They are defined using the `@classmethod` decorator and take `cls` as the first parameter.\n",
        "\n",
        "-Static methods are methods that do not require access to the class or instance. They are defined using the `@staticmethod` decorator and do not take `self` or `cls` as the first parameter.\n"
      ],
      "metadata": {
        "id": "TetZ_p41vILh"
      }
    },
    {
      "cell_type": "markdown",
      "source": [
        "11. What is method overloading in Python?\n",
        "-> Method overloading is the ability to define multiple methods with the same name but different parameters. However, Python does not support method overloading in the traditional sense; instead, you can achieve similar behavior using default arguments or variable-length arguments."
      ],
      "metadata": {
        "id": "NjsOCFR2vVBJ"
      }
    },
    {
      "cell_type": "markdown",
      "source": [
        "12. What is method overriding in OOP?\n",
        "-> Method overriding occurs when a subclass provides a specific implementation of a method that is already defined in its superclass. This allows the subclass to customize or extend the behavior of the inherited method."
      ],
      "metadata": {
        "id": "N4gEUpFjvakJ"
      }
    },
    {
      "cell_type": "markdown",
      "source": [
        "13. What is a property decorator in Python?\n",
        "-> The property decorator in Python is used to define a method as a property, allowing you to access it like an attribute. It provides a way to manage the access to an attribute, enabling getter, setter, and deleter methods."
      ],
      "metadata": {
        "id": "S-Bwfyk-vfS-"
      }
    },
    {
      "cell_type": "markdown",
      "source": [
        "14. Why is polymorphism important in OOP?\n",
        "-> Polymorphism is important because it allows for flexibility and the ability to use a unified interface for different data types. It enables code to be more generic and reusable, making it easier to extend and maintain.\n"
      ],
      "metadata": {
        "id": "NUOu4vFxvlGr"
      }
    },
    {
      "cell_type": "markdown",
      "source": [
        "15. What is an abstract class in Python?\n",
        "-> An abstract class is a class that cannot be instantiated and is meant to be subclassed. It can contain abstract methods (methods without implementation) that must be implemented by any subclass. Abstract classes are defined using the `abc` module in Python.\n"
      ],
      "metadata": {
        "id": "qikpRTcbvrXD"
      }
    },
    {
      "cell_type": "markdown",
      "source": [
        "16. What are the advantages of OOP?\n",
        "-> Modularity: OOP allows for the organization of code into discrete classes and objects, making it easier to manage and understand.\n",
        "\n",
        "Reusability: Classes can be reused across different programs or projects, reducing redundancy and development time.\n",
        "\n",
        "Scalability: OOP makes it easier to scale applications by adding new classes and objects without affecting existing code.\n",
        "\n",
        "Maintainability: Code is easier to maintain and update due to its modular nature. Changes in one part of the code can be made with minimal impact on other parts.\n",
        "\n",
        "Encapsulation: Data and methods are bundled together, which helps in protecting the internal state of objects and prevents unintended interference.\n",
        "\n",
        "Abstraction: OOP allows for the creation of abstract classes and interfaces, enabling developers to focus on high-level design without worrying about low-level details.\n",
        "\n",
        "Polymorphism: OOP supports polymorphism, allowing for flexible and interchangeable code that can work with different data types."
      ],
      "metadata": {
        "id": "cLxso8cCvvwZ"
      }
    },
    {
      "cell_type": "markdown",
      "source": [
        "17. What is multiple inheritance in Python?\n",
        "-> Multiple inheritance is a feature in Python where a class can inherit from more than one parent class. This allows the child class to access attributes and methods from multiple parent classes. While powerful, multiple inheritance can lead to complexity and ambiguity, especially with the \"diamond problem,\" where a method is inherited from multiple paths.\n",
        "\n",
        "class Parent1:\n",
        "    \n",
        "    def method(self):\n",
        "        print(\"Method from Parent1\")\n",
        "\n",
        "class Parent2:\n",
        "    \n",
        "    def method(self):\n",
        "        print(\"Method from Parent2\")\n",
        "\n",
        "class Child(Parent1, Parent2):\n",
        "    \n",
        "    pass\n",
        "\n",
        "child = Child()\n",
        "\n",
        "child.method()  # Output: Method from Parent1"
      ],
      "metadata": {
        "id": "VD_GYUBZwKkr"
      }
    },
    {
      "cell_type": "markdown",
      "source": [
        "18. What is the difference between a class variable and an instance variable?\n",
        "->\n",
        "- Class Variable: A class variable is shared among all instances of a class. It is defined within the class but outside any instance methods. Changes to a class variable affect all instances of the class.\n",
        "\n",
        "class MyClass:\n",
        "    \n",
        "    class_variable = 0  # Class variable\n",
        "\n",
        "obj1 = MyClass()\n",
        "\n",
        "obj2 = MyClass()\n",
        "\n",
        "MyClass.class_variable += 1\n",
        "\n",
        "print(obj1.class_variable)  # Output: 1\n",
        "\n",
        "print(obj2.class_variable)  # Output: 1\n",
        "\n",
        "- Instance Variable: An instance variable is unique to each instance of a class. It is defined within methods (usually the constructor) and is prefixed with self. Changes to an instance variable only affect that specific instance.\n",
        "\n",
        "class MyClass:\n",
        "   \n",
        "    def __init__(self, value):\n",
        "        self.instance_variable = value  # Instance variable\n",
        "\n",
        "obj1 = MyClass(1)\n",
        "\n",
        "obj2 = MyClass(2)\n",
        "\n",
        "print(obj1.instance_variable)  # Output: 1\n",
        "\n",
        "print(obj2.instance_variable)  # Output: 2"
      ],
      "metadata": {
        "id": "A5QvNd-AwdoJ"
      }
    },
    {
      "cell_type": "markdown",
      "source": [
        "19. Explain the purpose of '_str_' and '_repr_' methods in Python.\n",
        "->\n",
        "- __str__: This method is intended to provide a \"pretty\" or user-friendly string representation of an object. It is called by the str() function and when you use print() on an object.\n",
        "\n",
        "class MyClass:\n",
        "    \n",
        "    def __str__(self):\n",
        "        return \"This is MyClass\"\n",
        "\n",
        "obj = MyClass()\n",
        "\n",
        "print(obj)  # Output: This is MyClass\n",
        "\n",
        "- __repr__: This method is intended to provide an \"official\" string representation of an object that can ideally be used to recreate the object. It is called by the repr() function and is used in the interactive interpreter.\n",
        "\n",
        "class MyClass:\n",
        "\n",
        "    def __repr__(self):\n",
        "        return \"MyClass()\"\n",
        "\n",
        "obj = MyClass()\n",
        "\n",
        "print(repr(obj))  # Output: MyClass()"
      ],
      "metadata": {
        "id": "5hvERpthwyJc"
      }
    },
    {
      "cell_type": "markdown",
      "source": [
        "20. What is the significance of the super() function in Python?\n",
        "-> The super() function is used to call methods from a parent class in a child class. It allows you to access inherited methods that have been overridden in a child class. This is particularly useful in the context of multiple inheritance, as it helps to avoid explicitly naming the parent class.\n",
        "\n",
        "class Parent:\n",
        "    \n",
        "    def greet(self):\n",
        "        print(\"Hello from Parent\")\n",
        "\n",
        "class Child(Parent):\n",
        "    \n",
        "    def greet(self):\n",
        "        super().greet()  # Call the greet method from Parent\n",
        "        print(\"Hello from Child\")\n",
        "\n",
        "child = Child()\n",
        "\n",
        "child.greet()\n",
        "\n",
        "Output:\n",
        "\n",
        "Hello from Parent\n",
        "\n",
        "Hello from Child"
      ],
      "metadata": {
        "id": "fssYjbeSxhI6"
      }
    },
    {
      "cell_type": "markdown",
      "source": [
        "21. What is the significance of the __del__ method in Python?\n",
        "-> The __del__ method is a destructor in Python, which is called when an object is about to be destroyed. This method can be used to perform cleanup actions, such as closing files or releasing resources that the object may have acquired during its lifetime. However, the use of __del__ is generally discouraged because the timing of its invocation is not guaranteed, especially in the presence of circular references or when using garbage collection.\n",
        "\n",
        "class MyClass:\n",
        "   \n",
        "    def __init__(self):\n",
        "        print(\"Object created\")\n",
        "\n",
        "   \n",
        "    def __del__(self):\n",
        "        print(\"Object destroyed\")\n",
        "\n",
        "obj = MyClass()  # Output: Object created\n",
        "\n",
        "del obj          # Output: Object destroyed"
      ],
      "metadata": {
        "id": "M4SJZh4WyKVY"
      }
    },
    {
      "cell_type": "markdown",
      "source": [
        "22. What is the difference between @staticmethod and @classmethod in Python?\n",
        "->\n",
        "- @staticmethod: A static method does not receive an implicit first argument (neither self nor cls). It behaves like a regular function that belongs to the class's namespace. Static methods cannot access or modify class or instance state.\n",
        "\n",
        "class MyClass:\n",
        "\n",
        "    @staticmethod\n",
        "    def static_method():\n",
        "        return \"This is a static method\"\n",
        "\n",
        "print(MyClass.static_method())  # Output: This is a static method\n",
        "\n",
        "- @classmethod: A class method receives the class as its first argument (usually named cls). It can access and modify class state that applies across all instances of the class. Class methods are often used for factory methods that create instances of the class.\n",
        "\n",
        "class MyClass:\n",
        "\n",
        "    class_variable = 0\n",
        "\n",
        "    @classmethod\n",
        "    def class_method(cls):\n",
        "        cls.class_variable += 1\n",
        "        return cls.class_variable\n",
        "\n",
        "print(MyClass.class_method())  # Output: 1"
      ],
      "metadata": {
        "id": "sATD1lsqylnr"
      }
    },
    {
      "cell_type": "markdown",
      "source": [
        "23. How does polymorphism work in Python with inheritance?\n",
        "-> Polymorphism in Python allows methods to be defined in different classes with the same name but different implementations. When a method is called on an object, Python determines which method to execute based on the object's class. This is particularly useful in inheritance, where a subclass can override a method from its superclass.\n",
        "\n",
        "class Animal:\n",
        "    \n",
        "    def speak(self):\n",
        "        return \"Animal speaks\"\n",
        "\n",
        "class Dog(Animal):\n",
        "    \n",
        "    def speak(self):\n",
        "        return \"Woof!\"\n",
        "\n",
        "class Cat(Animal):\n",
        "    \n",
        "    def speak(self):\n",
        "        return \"Meow!\"\n",
        "\n",
        "def animal_sound(animal):\n",
        "    \n",
        "    print(animal.speak())\n",
        "\n",
        "dog = Dog()\n",
        "\n",
        "cat = Cat()\n",
        "\n",
        "animal_sound(dog)  # Output: Woof!\n",
        "\n",
        "animal_sound(cat)  # Output: Meow!"
      ],
      "metadata": {
        "id": "Wsi59n7Gy7Ir"
      }
    },
    {
      "cell_type": "markdown",
      "source": [
        "24. What is method chaining in Python OOP?\n",
        "-> Method chaining is a technique where multiple method calls are made on the same object in a single statement. This is achieved by having each method return the object itself (usually self). Method chaining can lead to more concise and readable code.\n",
        "\n",
        "class MyClass:\n",
        "    \n",
        "    def __init__(self, value):\n",
        "        self.value = value\n",
        "\n",
        "    def add(self, amount):\n",
        "        self.value += amount\n",
        "        return self  # Return the object itself\n",
        "\n",
        "    def multiply(self, factor):\n",
        "        self.value *= factor\n",
        "        return self  # Return the object itself\n",
        "\n",
        "obj = MyClass(5)\n",
        "\n",
        "result = obj.add(3).multiply(2).value  # Chaining method calls\n",
        "\n",
        "print(result)  # Output: 16"
      ],
      "metadata": {
        "id": "PXfuM-CNzHnA"
      }
    },
    {
      "cell_type": "markdown",
      "source": [
        "25. What is the purpose of the __call__ method in Python?\n",
        "-> The __call__ method allows an instance of a class to be called as if it were a function. When an object with a __call__ method is invoked, this method is executed. This can be useful for creating callable objects that maintain state or encapsulate behavior."
      ],
      "metadata": {
        "id": "xGGqGtPyzS4H"
      }
    },
    {
      "cell_type": "markdown",
      "source": [
        "**Practical Questions**"
      ],
      "metadata": {
        "id": "OlOb8Gb-zjxK"
      }
    },
    {
      "cell_type": "code",
      "execution_count": 3,
      "metadata": {
        "colab": {
          "base_uri": "https://localhost:8080/"
        },
        "id": "D5SzfcmftHkl",
        "outputId": "9ec06c9c-0aab-42fe-9480-b09daccfc540"
      },
      "outputs": [
        {
          "output_type": "stream",
          "name": "stdout",
          "text": [
            "Bark!\n"
          ]
        }
      ],
      "source": [
        "# 1. Create a parent class Animal with a method speak() that prints a generic message. Create a child class Dog that overrides the speak() method to print \"Bark!\".\n",
        "\n",
        "class Animal:\n",
        "    def speak(self):\n",
        "        print(\"This animal makes a sound.\")\n",
        "\n",
        "class Dog(Animal):\n",
        "    def speak(self):\n",
        "        print(\"Bark!\")\n",
        "\n",
        "# Example usage\n",
        "dog = Dog()\n",
        "dog.speak()"
      ]
    },
    {
      "cell_type": "code",
      "source": [
        "# 2. Write a program to create an abstract class Shape with a method area(). Derive classes Circle and Rectangle from it and implement the area() method in both.\n",
        "\n",
        "from abc import ABC, abstractmethod\n",
        "import math\n",
        "\n",
        "class Shape(ABC):\n",
        "    @abstractmethod\n",
        "    def area(self):\n",
        "        pass\n",
        "\n",
        "class Circle(Shape):\n",
        "    def __init__(self, radius):\n",
        "        self.radius = radius\n",
        "\n",
        "    def area(self):\n",
        "        return math.pi * (self.radius ** 2)\n",
        "\n",
        "class Rectangle(Shape):\n",
        "    def __init__(self, width, height):\n",
        "        self.width = width\n",
        "        self.height = height\n",
        "\n",
        "    def area(self):\n",
        "        return self.width * self.height\n",
        "\n",
        "# Example usage\n",
        "circle = Circle(5)\n",
        "rectangle = Rectangle(4, 6)\n",
        "print(circle.area())\n",
        "print(rectangle.area())"
      ],
      "metadata": {
        "colab": {
          "base_uri": "https://localhost:8080/"
        },
        "id": "_g5vwJE_1B5x",
        "outputId": "78c65261-456d-47a0-b9ab-ec20a9a72864"
      },
      "execution_count": 4,
      "outputs": [
        {
          "output_type": "stream",
          "name": "stdout",
          "text": [
            "78.53981633974483\n",
            "24\n"
          ]
        }
      ]
    },
    {
      "cell_type": "code",
      "source": [
        "# 3.Implement a multi-level inheritance scenario where a class Vehicle has an attribute type. Derive a class Car and further derive a class ElectricCar that adds a battery attribute.\n",
        "\n",
        "class Vehicle:\n",
        "    def __init__(self, vehicle_type):\n",
        "        self.type = vehicle_type\n",
        "\n",
        "class Car(Vehicle):\n",
        "    def __init__(self, vehicle_type, model):\n",
        "        super().__init__(vehicle_type)\n",
        "        self.model = model\n",
        "\n",
        "class ElectricCar(Car):\n",
        "    def __init__(self, vehicle_type, model, battery):\n",
        "        super().__init__(vehicle_type, model)\n",
        "        self.battery = battery\n",
        "\n",
        "# Example usage\n",
        "electric_car = ElectricCar(\"Electric\", \"Tesla Model S\", \"100 kWh\")\n",
        "print(electric_car.type, electric_car.model, electric_car.battery)"
      ],
      "metadata": {
        "colab": {
          "base_uri": "https://localhost:8080/"
        },
        "id": "Qplfbs7R1jq9",
        "outputId": "7c92abca-5501-4128-ad23-f21b2eceff96"
      },
      "execution_count": 5,
      "outputs": [
        {
          "output_type": "stream",
          "name": "stdout",
          "text": [
            "Electric Tesla Model S 100 kWh\n"
          ]
        }
      ]
    },
    {
      "cell_type": "code",
      "source": [
        "# 4. Implement a multi-level inheritance scenario where a class Vehicle has an attribute type. Derive a class Car and further derive a class ElectricCar that adds a battery attribute.\n",
        "# Duplicate of Question 3."
      ],
      "metadata": {
        "id": "wvohl1o71cue"
      },
      "execution_count": 6,
      "outputs": []
    },
    {
      "cell_type": "code",
      "source": [
        "# 5. Write a program to demonstrate encapsulation by creating a class BankAccount with private attributes balance and methods to deposit, withdraw, and check balance.\n",
        "\n",
        "class BankAccount:\n",
        "    def __init__(self):\n",
        "        self.__balance = 0  # Private attribute\n",
        "\n",
        "    def deposit(self, amount):\n",
        "        if amount > 0:\n",
        "            self.__balance += amount\n",
        "\n",
        "    def withdraw(self, amount):\n",
        "        if 0 < amount <= self.__balance:\n",
        "            self.__balance -= amount\n",
        "\n",
        "    def check_balance(self):\n",
        "        return self.__balance\n",
        "\n",
        "# Example usage\n",
        "account = BankAccount()\n",
        "account.deposit(100)\n",
        "account.withdraw(50)\n",
        "print(account.check_balance())"
      ],
      "metadata": {
        "colab": {
          "base_uri": "https://localhost:8080/"
        },
        "id": "v3rcrsps15QM",
        "outputId": "45929751-32d0-4700-b5bd-272efb319890"
      },
      "execution_count": 7,
      "outputs": [
        {
          "output_type": "stream",
          "name": "stdout",
          "text": [
            "50\n"
          ]
        }
      ]
    },
    {
      "cell_type": "code",
      "source": [
        "# 6. Demonstrate runtime polymorphism using a method play() in a base class Instrument. Derive classes Guitar and Piano that implement their own version of play().\n",
        "\n",
        "class Instrument:\n",
        "    def play(self):\n",
        "        pass\n",
        "\n",
        "class Guitar(Instrument):\n",
        "    def play(self):\n",
        "        print(\"Strumming the guitar.\")\n",
        "\n",
        "class Piano(Instrument):\n",
        "    def play(self):\n",
        "        print(\"Playing the piano.\")\n",
        "\n",
        "# Example usage\n",
        "def play_instrument(instrument):\n",
        "    instrument.play()\n",
        "\n",
        "guitar = Guitar()\n",
        "piano = Piano()\n",
        "play_instrument(guitar)\n",
        "play_instrument(piano)"
      ],
      "metadata": {
        "colab": {
          "base_uri": "https://localhost:8080/"
        },
        "id": "myLGpgMf2Aw-",
        "outputId": "515ce019-d40a-429b-f771-997e57939ab6"
      },
      "execution_count": 8,
      "outputs": [
        {
          "output_type": "stream",
          "name": "stdout",
          "text": [
            "Strumming the guitar.\n",
            "Playing the piano.\n"
          ]
        }
      ]
    },
    {
      "cell_type": "code",
      "source": [
        "# 7. Create a class MathOperations with a class method add_numbers() to add two numbers and a static method subtract_numbers() to subtract two numbers.\n",
        "\n",
        "class MathOperations:\n",
        "    @classmethod\n",
        "    def add_numbers(cls, a, b):\n",
        "        return a + b\n",
        "\n",
        "    @staticmethod\n",
        "    def subtract_numbers(a, b):\n",
        "        return a - b\n",
        "\n",
        "# Example usage\n",
        "print(MathOperations.add_numbers(5, 3))\n",
        "print(MathOperations.subtract_numbers(5, 3))"
      ],
      "metadata": {
        "colab": {
          "base_uri": "https://localhost:8080/"
        },
        "id": "gzMeYkG-3sLw",
        "outputId": "402316b1-657b-4f84-a0a2-108a0589e80f"
      },
      "execution_count": 9,
      "outputs": [
        {
          "output_type": "stream",
          "name": "stdout",
          "text": [
            "8\n",
            "2\n"
          ]
        }
      ]
    },
    {
      "cell_type": "code",
      "source": [
        "# 8. Implement a class Person with a class method to count the total number of persons created.\n",
        "\n",
        "class Person:\n",
        "    count = 0\n",
        "\n",
        "    def __init__(self):\n",
        "        Person.count += 1\n",
        "\n",
        "    @classmethod\n",
        "    def total_persons(cls):\n",
        "        return cls.count\n",
        "\n",
        "# Example usage\n",
        "p1 = Person()\n",
        "p2 = Person()\n",
        "print(Person.total_persons())"
      ],
      "metadata": {
        "colab": {
          "base_uri": "https://localhost:8080/"
        },
        "id": "wreDlhK231s_",
        "outputId": "6b0e5c72-1fde-4841-a471-b6035da63623"
      },
      "execution_count": 10,
      "outputs": [
        {
          "output_type": "stream",
          "name": "stdout",
          "text": [
            "2\n"
          ]
        }
      ]
    },
    {
      "cell_type": "code",
      "source": [
        "# 9. Write a class Fraction with attributes numerator and denominator. Override the str method to display the fraction as \"numerator/denominator\".\n",
        "\n",
        "class Fraction:\n",
        "    def __init__(self, numerator, denominator):\n",
        "        self.numerator = numerator\n",
        "        self.denominator = denominator\n",
        "\n",
        "    def __str__(self):\n",
        "        return f\"{self.numerator}/{self.denominator}\"\n",
        "\n",
        "# Example usage\n",
        "fraction = Fraction(3, 4)\n",
        "print(fraction)"
      ],
      "metadata": {
        "colab": {
          "base_uri": "https://localhost:8080/"
        },
        "id": "DzCDrakt39iM",
        "outputId": "0f6f2220-e35f-4b4e-a105-200f0f3016bb"
      },
      "execution_count": 11,
      "outputs": [
        {
          "output_type": "stream",
          "name": "stdout",
          "text": [
            "3/4\n"
          ]
        }
      ]
    },
    {
      "cell_type": "code",
      "source": [
        "# 10. Demonstrate operator overloading by creating a class Vector and overriding the add method to add two vectors.\n",
        "\n",
        "class Vector:\n",
        "    def __init__(self, x, y):\n",
        "        self.x = x\n",
        "        self.y = y\n",
        "\n",
        "    def __add__(self, other):\n",
        "        return Vector(self.x + other.x, self.y + other.y)\n",
        "\n",
        "    def __str__(self):\n",
        "        return f\"Vector({self.x}, {self.y})\"\n",
        "\n",
        "# Example usage\n",
        "v1 = Vector(2, 3)\n",
        "v2 = Vector(4, 5)\n",
        "result = v1 + v2\n",
        "print(result)"
      ],
      "metadata": {
        "colab": {
          "base_uri": "https://localhost:8080/"
        },
        "id": "C-aWMWO24EFg",
        "outputId": "0a924834-c8fe-4dfb-c169-24e272c8724d"
      },
      "execution_count": 12,
      "outputs": [
        {
          "output_type": "stream",
          "name": "stdout",
          "text": [
            "Vector(6, 8)\n"
          ]
        }
      ]
    },
    {
      "cell_type": "code",
      "source": [
        "# 11. Create a class Person with attributes name and age. Add a method greet() that prints \"Hello, my name is {name} and I am {age} years old.\"\n",
        "\n",
        "class Person:\n",
        "    def __init__(self, name, age):\n",
        "        self.name = name\n",
        "        self.age = age\n",
        "\n",
        "    def greet(self):\n",
        "        print(f\"Hello, my name is {self.name} and I am {self.age} years old.\")\n",
        "\n",
        "# Example usage\n",
        "person = Person(\"Alice\", 30)\n",
        "person.greet()"
      ],
      "metadata": {
        "colab": {
          "base_uri": "https://localhost:8080/"
        },
        "id": "f8d8Y8zz4K6f",
        "outputId": "b5869047-560d-4df1-ac51-1f3b7fc68f3a"
      },
      "execution_count": 13,
      "outputs": [
        {
          "output_type": "stream",
          "name": "stdout",
          "text": [
            "Hello, my name is Alice and I am 30 years old.\n"
          ]
        }
      ]
    },
    {
      "cell_type": "code",
      "source": [
        "# 12. Implement a class Student with attributes name and grades. Create a method average_grade() to compute the average of the grades.\n",
        "\n",
        "class Student:\n",
        "    def __init__(self, name, grades):\n",
        "        self.name = name\n",
        "        self.grades = grades\n",
        "\n",
        "    def average_grade(self):\n",
        "        return sum(self.grades) / len(self.grades)\n",
        "\n",
        "# Example usage\n",
        "student = Student(\"Bob\", [85, 90, 78])\n",
        "print(student.average_grade())"
      ],
      "metadata": {
        "colab": {
          "base_uri": "https://localhost:8080/"
        },
        "id": "7ngfaku549jR",
        "outputId": "753e53c2-355e-406f-eea6-31e40f177285"
      },
      "execution_count": 14,
      "outputs": [
        {
          "output_type": "stream",
          "name": "stdout",
          "text": [
            "84.33333333333333\n"
          ]
        }
      ]
    },
    {
      "cell_type": "code",
      "source": [
        "# 13. Create a class Rectangle with methods set_dimensions() to set the dimensions and area() to calculate the area.\n",
        "\n",
        "class Rectangle:\n",
        "    def __init__(self):\n",
        "        self.width = 0\n",
        "        self.height = 0\n",
        "\n",
        "    def set_dimensions(self, width, height):\n",
        "        self.width = width\n",
        "        self.height = height\n",
        "\n",
        "    def area(self):\n",
        "        return self.width * self.height\n",
        "\n",
        "# Example usage\n",
        "rectangle = Rectangle()\n",
        "rectangle.set_dimensions(4, 5)\n",
        "print(rectangle.area())"
      ],
      "metadata": {
        "colab": {
          "base_uri": "https://localhost:8080/"
        },
        "id": "P3SY_hED5Dhy",
        "outputId": "823fecb6-1e54-4f13-a1d9-093704c51672"
      },
      "execution_count": 15,
      "outputs": [
        {
          "output_type": "stream",
          "name": "stdout",
          "text": [
            "20\n"
          ]
        }
      ]
    },
    {
      "cell_type": "code",
      "source": [
        "# 14. Create a class Employee with a method calculate_salary() that computes the salary based on hours worked and hourly rate. Create a derived class Manager that adds a bonus to the salary.\n",
        "\n",
        "class Employee:\n",
        "    def __init__(self, hours_worked, hourly_rate):\n",
        "        self.hours_worked = hours_worked\n",
        "        self.hourly_rate = hourly_rate\n",
        "\n",
        "    def calculate_salary(self):\n",
        "        return self.hours_worked * self.hourly_rate\n",
        "\n",
        "class Manager(Employee):\n",
        "    def __init__(self, hours_worked, hourly_rate, bonus):\n",
        "        super().__init__(hours_worked, hourly_rate)\n",
        "        self.bonus = bonus\n",
        "\n",
        "    def calculate_salary(self):\n",
        "        return super().calculate_salary() + self.bonus\n",
        "\n",
        "# Example usage\n",
        "manager = Manager(40, 20, 500)\n",
        "print(manager.calculate_salary())"
      ],
      "metadata": {
        "colab": {
          "base_uri": "https://localhost:8080/"
        },
        "id": "allcRSno5K0n",
        "outputId": "0f395893-9401-4abe-d771-5713851d7170"
      },
      "execution_count": 16,
      "outputs": [
        {
          "output_type": "stream",
          "name": "stdout",
          "text": [
            "1300\n"
          ]
        }
      ]
    },
    {
      "cell_type": "code",
      "source": [
        "# 15. Create a class Product with attributes name, price, and quantity. Implement a method total_price() that calculates the total price of the product.\n",
        "\n",
        "class Product:\n",
        "    def __init__(self, name, price, quantity):\n",
        "        self.name = name\n",
        "        self.price = price\n",
        "        self.quantity = quantity\n",
        "\n",
        "    def total_price(self):\n",
        "        return self.price * self.quantity\n",
        "\n",
        "# Example usage\n",
        "product = Product(\"Laptop\", 1000, 2)\n",
        "print(product.total_price())"
      ],
      "metadata": {
        "colab": {
          "base_uri": "https://localhost:8080/"
        },
        "id": "MsP3qghH5SAV",
        "outputId": "f4f37ed1-ec82-465a-9c80-752d2f03a74c"
      },
      "execution_count": 17,
      "outputs": [
        {
          "output_type": "stream",
          "name": "stdout",
          "text": [
            "2000\n"
          ]
        }
      ]
    },
    {
      "cell_type": "code",
      "source": [
        "# 16. Create a class Animal with an abstract method sound(). Create two derived classes Cow and Sheep that implement the sound() method.\n",
        "\n",
        "from abc import ABC, abstractmethod\n",
        "\n",
        "class Animal(ABC):\n",
        "    @abstractmethod\n",
        "    def sound(self):\n",
        "        pass\n",
        "\n",
        "class Cow(Animal):\n",
        "    def sound(self):\n",
        "        return \"Moo!\"\n",
        "\n",
        "class Sheep(Animal):\n",
        "    def sound(self):\n",
        "        return \"Baa!\"\n",
        "\n",
        "# Example usage\n",
        "cow = Cow()\n",
        "sheep = Sheep()\n",
        "print(cow.sound())\n",
        "print(sheep.sound())"
      ],
      "metadata": {
        "colab": {
          "base_uri": "https://localhost:8080/"
        },
        "id": "sJfiUhcd5Z3n",
        "outputId": "e09f0ad0-b9fe-48e6-e027-044f165d340b"
      },
      "execution_count": 18,
      "outputs": [
        {
          "output_type": "stream",
          "name": "stdout",
          "text": [
            "Moo!\n",
            "Baa!\n"
          ]
        }
      ]
    },
    {
      "cell_type": "code",
      "source": [
        "# 17. Create a class Book with attributes title, author, and year_published. Add a method get_book_info() that returns a formatted string with the book's details.\n",
        "\n",
        "class Book:\n",
        "    def __init__(self, title, author, year_published):\n",
        "        self.title = title\n",
        "        self.author = author\n",
        "        self.year_published = year_published\n",
        "\n",
        "    def get_book_info(self):\n",
        "        return f\"{self.title} by {self.author}, published in {self.year_published}\"\n",
        "\n",
        "# Example usage\n",
        "book = Book(\"1984\", \"George Orwell\", 1949)\n",
        "print(book.get_book_info())"
      ],
      "metadata": {
        "colab": {
          "base_uri": "https://localhost:8080/"
        },
        "id": "ycyp-bZM5g0v",
        "outputId": "eb575c46-8903-4032-9b52-9cd49bf1473c"
      },
      "execution_count": 19,
      "outputs": [
        {
          "output_type": "stream",
          "name": "stdout",
          "text": [
            "1984 by George Orwell, published in 1949\n"
          ]
        }
      ]
    },
    {
      "cell_type": "code",
      "source": [
        "# 18. Create a class House with attributes address and price. Create a derived class Mansion that adds an attribute number_of_rooms.\n",
        "\n",
        "class House:\n",
        "    def __init__(self, address, price):\n",
        "        self.address = address\n",
        "        self.price = price\n",
        "\n",
        "class Mansion(House):\n",
        "    def __init__(self, address, price, number_of_rooms):\n",
        "        super().__init__(address, price)\n",
        "        self.number_of_rooms = number_of_rooms\n",
        "\n",
        "# Example usage\n",
        "mansion = Mansion(\"123 Luxury St\", 1_000_000, 10)\n",
        "print(mansion.address, mansion.price, mansion.number_of_rooms)"
      ],
      "metadata": {
        "colab": {
          "base_uri": "https://localhost:8080/"
        },
        "id": "q9gv029L5nmy",
        "outputId": "fb10d0da-0e7f-481d-da42-68f52848dcd3"
      },
      "execution_count": 20,
      "outputs": [
        {
          "output_type": "stream",
          "name": "stdout",
          "text": [
            "123 Luxury St 1000000 10\n"
          ]
        }
      ]
    }
  ]
}